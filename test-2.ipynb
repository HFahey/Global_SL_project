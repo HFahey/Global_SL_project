{
 "cells": [
  {
   "cell_type": "code",
   "execution_count": 9,
   "metadata": {},
   "outputs": [],
   "source": [
    "#!pip install pandas"
   ]
  },
  {
   "cell_type": "code",
   "execution_count": 8,
   "metadata": {},
   "outputs": [],
   "source": [
    "#loading python modules\n",
    "import numpy \n",
    "\n",
    "import matplotlib.pyplot as plt\n",
    "\n",
    "import cartopy.crs\n",
    "\n",
    "import pandas as pd"
   ]
  },
  {
   "cell_type": "code",
   "execution_count": null,
   "metadata": {},
   "outputs": [],
   "source": [
    "data=pd.read_csv('lat_long_depth.txt', header=None) \n",
    "\n",
    "data2=pd.read_csv('wells_for_map.csv')"
   ]
  },
  {
   "cell_type": "code",
   "execution_count": null,
   "metadata": {},
   "outputs": [],
   "source": [
    "type(data)\n",
    "data[0][0]\n",
    "\n",
    "longs=data[0]\n",
    "lats=data[1]\n",
    "depth=data[2]"
   ]
  },
  {
   "cell_type": "code",
   "execution_count": null,
   "metadata": {},
   "outputs": [],
   "source": [
    "hole=data2['Total Penetration (mbsf)']\n",
    "\n",
    "n=data2['Well Name']"
   ]
  },
  {
   "cell_type": "code",
   "execution_count": null,
   "metadata": {},
   "outputs": [],
   "source": [
    "#map\n",
    "fig = matplotlib.pyplot.figure(figsize=(16,12),dpi=150)\n",
    "\n",
    "ax = matplotlib.pyplot.axes(projection=cartopy.crs.Robinson())\n",
    "\n",
    "#Earth-specific details from cartopy module\n",
    "ax.set_global()\n",
    "ax.coastlines('50m', linewidth=0.8)\n",
    "ax.stock_img()\n",
    "ax.gridlines()\n",
    "\n",
    "#data into map\n",
    "mapscat=ax.scatter(longs,lats,marker=\".\",c=depth,vmin=0,vmax=5500,transform=cartopy.crs.Geodetic(),zorder=4,cmap=matplotlib.pyplot.cm.Wistia)\n",
    "\n",
    "cbar=matplotlib.pyplot.colorbar(mapscat, ax=ax, orientation=\"horizontal\", pad=0.05, fraction=0.15, shrink=0.5,extend='max')\n",
    "cbar.set_label('Water depth (m)')\n",
    "\n",
    "matplotlib.pyplot.title('Passive margin wells coloured by water depth')\n",
    "matplotlib.pyplot.show()"
   ]
  },
  {
   "cell_type": "code",
   "execution_count": null,
   "metadata": {},
   "outputs": [],
   "source": [
    "#depth below sea floor\n",
    "fig = matplotlib.pyplot.figure(figsize=(16,12),dpi=150)\n",
    "\n",
    "ax = matplotlib.pyplot.axes(projection=cartopy.crs.Robinson()) #map projection to plot over.\n",
    "\n",
    "ax.set_global()\n",
    "ax.coastlines('50m', linewidth=0.8)\n",
    "ax.stock_img()\n",
    "ax.gridlines()\n",
    "\n",
    "mapscat=ax.scatter(longs,lats,marker=\".\",c=hole,vmin=0,vmax=1800,transform=cartopy.crs.Geodetic(),zorder=4,cmap=matplotlib.pyplot.cm.cool)\n",
    "\n",
    "cbar=matplotlib.pyplot.colorbar(mapscat, ax=ax, orientation=\"horizontal\", pad=0.05, fraction=0.15, shrink=0.5,extend='max')\n",
    "cbar.set_label('Total Well Penetration (mbsf)')\n",
    "\n",
    "matplotlib.pyplot.title('Passive margin wells coloured by well depth')\n",
    "matplotlib.pyplot.show()\n",
    "\n",
    "#attempting to label wells\n",
    "'''\n",
    "for i, str in enumerate(n):\n",
    "    ax.annotate(str, (longs[i], lats[i]))\n",
    "    \n",
    "for i, txt in enumerate([n]):\n",
    "    ax.annotate(txt, (longs[i],lats[i]))#, size=, xytext=(0,0), ha='right', textcoords='offset points')\n",
    "'''"
   ]
  },
  {
   "cell_type": "code",
   "execution_count": null,
   "metadata": {},
   "outputs": [],
   "source": [
    " #histogram for well water depth\n",
    "mu = numpy.mean(depth) #mean of distribution\n",
    "sigma = numpy.std(depth) #standard deviation\n",
    "x = depth\n",
    "\n",
    "matplotlib.pyplot.hist(x, bins=[0,500,1000,1500,2000,2500,3000,3500,4000,4500,5000,5500])\n",
    "\n",
    "matplotlib.pyplot.xlabel('Water Depth (m)')\n",
    "matplotlib.pyplot.ylabel('Count')"
   ]
  },
  {
   "cell_type": "code",
   "execution_count": null,
   "metadata": {},
   "outputs": [],
   "source": [
    "#histogram for well penetration belkow sea floor\n",
    "mu = numpy.mean(hole) #mean of distribution\n",
    "sigma = numpy.std(hole) #standard deviation\n",
    "x = hole\n",
    "\n",
    "matplotlib.pyplot.hist(x, bins=[0,100,200,300,400,500,600,700,800,900,1000,1100,1200,1300,1400,1500,1600,1700,1800])\n",
    "\n",
    "matplotlib.pyplot.xlabel('Well depth below sea floor (m)')\n",
    "matplotlib.pyplot.ylabel('Count')"
   ]
  },
  {
   "cell_type": "code",
   "execution_count": null,
   "metadata": {},
   "outputs": [],
   "source": [
    "#a method to label points on a scatter plot\n",
    "g=['a', 'b', 'c']\n",
    "x=[1,2,3]\n",
    "y=[23,55,68]\n",
    "\n",
    "fig, ax = plt.subplots()\n",
    "ax.scatter(x, y)\n",
    "                    \n",
    "\n",
    "for i, txt in enumerate(g):\n",
    "    ax.annotate(txt, (x[i], y[i]))"
   ]
  },
  {
   "cell_type": "code",
   "execution_count": null,
   "metadata": {},
   "outputs": [],
   "source": [
    "type(data2)\n",
    "\n",
    "#n = n.applymap(str)\n",
    "\n",
    "#df = [str(i) for i in n.values]\n",
    "\n",
    "n = [str(i) for i in n.values]"
   ]
  }
 ],
 "metadata": {
  "kernelspec": {
   "display_name": "Python 2",
   "language": "python",
   "name": "python2"
  },
  "language_info": {
   "codemirror_mode": {
    "name": "ipython",
    "version": 2
   },
   "file_extension": ".py",
   "mimetype": "text/x-python",
   "name": "python",
   "nbconvert_exporter": "python",
   "pygments_lexer": "ipython2",
   "version": "2.7.12"
  }
 },
 "nbformat": 4,
 "nbformat_minor": 2
}
