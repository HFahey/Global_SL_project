{
 "cells": [
  {
   "cell_type": "code",
   "execution_count": 117,
   "metadata": {},
   "outputs": [],
   "source": [
    "import numpy as np\n",
    "import pandas as pd\n",
    "import os\n",
    "import re\n",
    "import matplotlib.pyplot as plt\n",
    "import matplotlib.colors as mcolors\n",
    "import glob\n",
    "%matplotlib inline"
   ]
  },
  {
   "cell_type": "code",
   "execution_count": 134,
   "metadata": {},
   "outputs": [
    {
     "name": "stdout",
     "output_type": "stream",
     "text": [
      "Index(['Well_Name', 'Program', 'Expedition', 'Site', 'Hole', 'Oceanic_Region',\n",
      "       'Longitude', 'Latitude', 'Spud_Date', 'Completion_Date',\n",
      "       'Water_Depth_(m)', 'Number_of_Cores', 'Total_Penetration_(mbsf)',\n",
      "       'Interval_Cored_(m)', 'Core_Recovered_(m)', '%_Recovered',\n",
      "       'Reported_Age_of_Oldest_Sediment_Recovered',\n",
      "       'Oldest_Sediment_Lithology', 'Oldest_Sediment_Subbottom_Depth',\n",
      "       'EGI_Synthesized', 'Well_Logging', 'Data_Source',\n",
      "       'depth_age_model_page_from_data_source', 'Lithology',\n",
      "       'Paleowater_depth', 'Depth-Age_model', 'fossiol_zones',\n",
      "       'Notes_on_data_source_info', 'Data_files_filled:', 'litho',\n",
      "       'paleodepth', 'model', 'location',\n",
      "       'Paleodepth_data_quality_(1_to_3)***', 'Depth_age_model_from_NSB'],\n",
      "      dtype='object')\n"
     ]
    }
   ],
   "source": [
    "passivemw=pd.read_csv('./Passive margin wells v2.csv', header=0)\n",
    "passivemw_v2=pd.read_csv('./fullsets.csv', header=0)\n",
    "passivemw_v3=pd.read_csv('./no_NSB_model.csv', header=0)\n",
    "\n",
    "print(passivemw_v3.columns)"
   ]
  },
  {
   "cell_type": "code",
   "execution_count": 132,
   "metadata": {},
   "outputs": [
    {
     "data": {
      "text/plain": [
       "54"
      ]
     },
     "execution_count": 132,
     "metadata": {},
     "output_type": "execute_result"
    }
   ],
   "source": [
    "len(passivemw_v2['Well Name'])\n",
    "len(passivemw_v3['Well Name'])"
   ]
  },
  {
   "cell_type": "code",
   "execution_count": 119,
   "metadata": {},
   "outputs": [
    {
     "name": "stdout",
     "output_type": "stream",
     "text": [
      "Number of iCORDS passive margin wells=737\n",
      "Number of iCORDS passive margin wells with lithologies =703\n",
      "Number of iCORDS passive margin wells with paleo-water depths =146\n",
      "Number of iCORDS passive margin wells in Neptune database =376\n"
     ]
    },
    {
     "name": "stderr",
     "output_type": "stream",
     "text": [
      "/usr/local/lib/python3.5/dist-packages/numpy/core/fromnumeric.py:61: FutureWarning: Series.nonzero() is deprecated and will be removed in a future version.Use Series.to_numpy().nonzero() instead\n",
      "  return bound(*args, **kwds)\n"
     ]
    }
   ],
   "source": [
    "print('Number of iCORDS passive margin wells='+str(len(passivemw.Well_Name)))\n",
    "print('Number of iCORDS passive margin wells with lithologies ='+str(len(np.argwhere(passivemw.Lithology==1))))\n",
    "print('Number of iCORDS passive margin wells with paleo-water depths ='+str(len(np.argwhere(passivemw.Paleowater_depth==1))))\n",
    "print('Number of iCORDS passive margin wells with Depth_Age_models ='+str(len(np.argwhere(passivemw.Depth_Age_model==1))))\n"
   ]
  },
  {
   "cell_type": "code",
   "execution_count": 123,
   "metadata": {},
   "outputs": [
    {
     "name": "stdout",
     "output_type": "stream",
     "text": [
      "['.05 Ma' 'Albian' 'Albian to Cenomanian' 'Albian to late Valanginian'\n",
      " 'Albian to upper Aptian' 'Aptian' 'Barremian' 'Berriasian' 'Cretaceous'\n",
      " 'Cretaceous (Maastrichtian)' 'Early Campanian to Late Santonian'\n",
      " 'Early Cretaceous' 'Early Cretaceous (Berriasian-Valanginian)'\n",
      " 'Early Cretaceous (Haueterivian)' 'Early Miocene'\n",
      " 'Early Miocene to late Eocene' 'Early Pleistocene' 'Early Pliocene'\n",
      " 'Eocene' 'Eocene-Oligocene' 'Eocene-early Oligocene' 'Hauterivian'\n",
      " 'Holocene' 'Holocene to Pleistocene' 'Holocene to early Pliocene'\n",
      " 'Holocene(?), Pleistocene to late Pliocene' 'Holocene/late Quaternary'\n",
      " 'Kimmeridgian (early Tithonian)' 'Late Cretaceous' 'Late Eocene-Miocene'\n",
      " 'Late Hauterivian' 'Late Jurassic (Tithonian)'\n",
      " 'Late Jurassic/earliest Cretaceous' 'Late Paleocene' 'Late Pliocene'\n",
      " 'Lower Cretaceous (middle Berriasian)' 'Lower Maestrichtian'\n",
      " 'Lower Paleocene' 'Lower Pliocene' 'Maastrichtian' 'Maestrichtian'\n",
      " 'Messinian/unknown' 'Middle Eocene' 'Middle Eocene to early Paleocene'\n",
      " 'Middle Miocene' 'Middle Paleocene' 'Middle to Upper Jurassic' 'Miocene'\n",
      " 'Neocomian' 'Neocomian-Aptian' 'Neogene' 'None' 'Oligocene'\n",
      " 'Oligocene-Miocene' 'Oligocene-Paleocene' 'Paleozoic' 'Pleistocene'\n",
      " 'Pleistocene (Late Cretaceous for limestone clasts)'\n",
      " 'Pleistocene qand Holocene' 'Pleistocene to early Pliocene'\n",
      " 'Pleistocene-early Oligocene' 'Pliocene' 'Pliocene-Pleistocene'\n",
      " 'Quaternary' 'Rhaetian-Hettangian' 'Rhaetian-Sinemurian'\n",
      " 'Senomanian-Cenomanian' 'Turonian (Late Cretaceous)' 'Upper Eocene'\n",
      " 'Upper Miocene' 'Upper Miocene (Messinian)'\n",
      " 'Upper Miocene to Pleistocene' 'Upper Pliocene' 'Valanginian'\n",
      " 'Valanginian/Hauterivian' 'earliest Miocene' 'earliest middle Miocene'\n",
      " 'early Albian' 'early Aptian to late Barremian' 'early Campanian'\n",
      " 'early Cretaceous' 'early Eocene' 'early Miocene'\n",
      " 'early Miocene to middle Miocene' 'early Oligocene' 'early Paleocene'\n",
      " 'early Pleistocene' 'early Pliocene' 'early Pliocene to late Miocene'\n",
      " 'early Quaternary' 'early late Eocene' 'early late Miocene'\n",
      " 'early or middle Oligocene' 'early to late Miocene'\n",
      " 'early to middle Eocene' 'early to middle Miocene' 'early-late Albian'\n",
      " 'early-middle Miocene' 'late Albian' 'late Albian Cenomanian'\n",
      " 'late Albian to Early Aptian' 'late Aptian' 'late Aptian (Gargasian)'\n",
      " 'late Barremian' 'late Campanian' 'late Cretaceous' 'late Devonian'\n",
      " 'late Eocene' 'late Eocene-early Oligocene' 'late Jurassic'\n",
      " 'late Jurassic (Kimmeridgian-Portlandian)' 'late Miocene'\n",
      " 'late Miocene -early Pliocene' 'late Miocene to late Pliocene'\n",
      " 'late Oligocene' 'late Paleocene' 'late Pleistocene' 'late Pliocene'\n",
      " 'late Pliocene-Pleistocene' 'late Triassic-Early Jurassic'\n",
      " 'late Valanginian' 'late Valanginian-Hauterivian' 'late early Miocene'\n",
      " 'late early Paleocene' 'late mMiocene-early Pliocene'\n",
      " 'late to mid-Pliocene' 'late to middle Miocene'\n",
      " 'late to middle Pleistocene' 'latest Jurassic/earliest Cretaceous'\n",
      " 'latest early Miocene' 'lower Cretaceous' 'lower Eocene'\n",
      " 'lower Oligocene' 'lower Pliocene' 'middle Eocene'\n",
      " 'middle Eocene to early Paleocene' 'middle Eocene-early Miocene'\n",
      " 'middle Miocene' 'middle Miocene to early Pliocene' 'middle Oligocene'\n",
      " 'middle Paleocene' 'middle Pleistocene' 'middle Pliocene'\n",
      " 'middle late Eocene' 'middle late Miocene' 'middle to early Pleistocene'\n",
      " 'middle to upper Jurassic' 'middle-late Albian' 'middle-late Eocene'\n",
      " 'nan' 'none' 'pre-late Paleocene; probably Aptian-Albian'\n",
      " 'probably late Paleocene-early Eocene' 'undated' 'unknown' 'upper Aptian'\n",
      " 'upper Eocene' 'upper Miocene']\n"
     ]
    },
    {
     "data": {
      "text/plain": [
       "158"
      ]
     },
     "execution_count": 123,
     "metadata": {},
     "output_type": "execute_result"
    }
   ],
   "source": [
    "print(np.unique(passivemw.Reported_Age_of_Oldest_Sediment_Recovered.apply(str)))\n",
    "len(np.unique(passivemw.Reported_Age_of_Oldest_Sediment_Recovered.apply(str)))"
   ]
  },
  {
   "cell_type": "code",
   "execution_count": 142,
   "metadata": {},
   "outputs": [
    {
     "name": "stdout",
     "output_type": "stream",
     "text": [
      "54\n",
      "24\n",
      "['Early Miocene' 'Holocene to Pleistocene' 'Maastrichtian' 'Pleistocene'\n",
      " 'Pleistocene to early Pliocene' 'Pleistocene-early Oligocene'\n",
      " 'Pliocene-Pleistocene' 'Quaternary' 'Turonian (Late Cretaceous)'\n",
      " 'early Eocene' 'early Miocene' 'early Pliocene'\n",
      " 'early Pliocene to late Miocene' 'early to middle Eocene' 'late Eocene'\n",
      " 'late Miocene' 'late Pleistocene' 'late Pliocene'\n",
      " 'late to middle Pleistocene' 'middle Eocene' 'middle Miocene' 'nan'\n",
      " 'probably late Paleocene-early Eocene' 'unknown']\n"
     ]
    }
   ],
   "source": [
    "print(len(passivemw_v3.Well_Name))\n",
    "print(len(np.unique(passivemw_v3.Reported_Age_of_Oldest_Sediment_Recovered.apply(str))))\n",
    "print(np.unique(passivemw_v3.Reported_Age_of_Oldest_Sediment_Recovered.apply(str)))\n",
    "#There are 14 wells where is not the reported age of Oldest Sediment Recovered is an NA\n",
    "#There are 24 'unique values'"
   ]
  },
  {
   "cell_type": "code",
   "execution_count": null,
   "metadata": {},
   "outputs": [],
   "source": []
  }
 ],
 "metadata": {
  "kernelspec": {
   "display_name": "Python 3",
   "language": "python",
   "name": "python3"
  },
  "language_info": {
   "codemirror_mode": {
    "name": "ipython",
    "version": 3
   },
   "file_extension": ".py",
   "mimetype": "text/x-python",
   "name": "python",
   "nbconvert_exporter": "python",
   "pygments_lexer": "ipython3",
   "version": "3.5.3"
  }
 },
 "nbformat": 4,
 "nbformat_minor": 2
}
